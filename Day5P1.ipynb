{
  "nbformat": 4,
  "nbformat_minor": 0,
  "metadata": {
    "colab": {
      "provenance": [],
      "authorship_tag": "ABX9TyOqH92/MOmrdJnypNljTHqE"
    },
    "kernelspec": {
      "name": "python3",
      "display_name": "Python 3"
    },
    "language_info": {
      "name": "python"
    }
  },
  "cells": [
    {
      "cell_type": "markdown",
      "source": [
        "**Advent of Code Day 5 Problem 1**"
      ],
      "metadata": {
        "id": "NDqbzgngGZjg"
      }
    },
    {
      "cell_type": "markdown",
      "source": [
        "Reading Input file"
      ],
      "metadata": {
        "id": "asyETaIaGnrx"
      }
    },
    {
      "cell_type": "code",
      "execution_count": null,
      "metadata": {
        "id": "ZWdCqmNgCtU_",
        "collapsed": true
      },
      "outputs": [],
      "source": [
        "#The drive mount stuff is to grab the input file from a google drive\n",
        "#It can be omitted if the file is stored locally\n",
        "from google.colab import drive\n",
        "drive.mount('/content/drive')\n",
        "\n",
        "\n",
        "input = []\n",
        "#opening file\n",
        "with open(\"/content/drive/MyDrive/Day5Input.txt\") as f:\n",
        "          for line in f:\n",
        "            #Reading in the input one line at a time\n",
        "            input.append(line.split())\n",
        "\n",
        "print(input)\n",
        "\n"
      ]
    },
    {
      "cell_type": "markdown",
      "source": [
        "Function for finding the distance between two lists."
      ],
      "metadata": {
        "id": "mArzmGBOGuN2"
      }
    },
    {
      "cell_type": "code",
      "source": [
        "import re\n",
        "#This is the main driver function that takes in an array for input\n",
        "def DaRules(input):\n",
        "  #initializing values, may have a little excess but this is the ugly first version.\n",
        "  count = 0\n",
        "  flag = False\n",
        "  rules = {}\n",
        "  updates = []\n",
        "\n",
        "  #Grabbing the updates and rules from the input\n",
        "  for line in input:\n",
        "    if flag:\n",
        "      nums = re.findall(\"\\d+\", line[0])\n",
        "      updates.append(nums)\n",
        "    else:\n",
        "      #Ignoring the empty array from the to split up the rules from the updates\n",
        "      if len(line) == 0:\n",
        "        flag = True\n",
        "      else:\n",
        "      #Regex to grab the numbers and perform the calculations\n",
        "        nums = re.findall(\"\\d+\", line[0])\n",
        "        #Hashing the updates into a table so they are easy to grab later\n",
        "        #The comparison is to ensure that naming is consitent with the larger number first for easier lookup\n",
        "        if(int(nums[0]) > int(nums[1])):\n",
        "          key = nums[0]+nums[1]\n",
        "        else:\n",
        "          key = nums[1]+nums[0]\n",
        "        rules[key] = line[0]\n",
        "  #Checking the updates to see if they follow the rules\n",
        "  for update in updates:\n",
        "    flag2 = True\n",
        "    for i in range(len(update)-1):\n",
        "      #Handling every number except for the last one in the list\n",
        "      if i < len(update)-1:\n",
        "       control = len(update) -1 -i\n",
        "       while control > 0:\n",
        "        #Finding the rule for the number and comparing it to numbers to it's right\n",
        "          if(int(update[i]) > int(update[control+i])):\n",
        "            nums = re.findall(\"\\d+\", rules[update[i] + update[control+i]])\n",
        "          else:\n",
        "            nums = re.findall(\"\\d+\", rules[update[control + i] + update[i]])\n",
        "          #This is the exact check to see if it is following the rule\n",
        "          if int(nums[0]) != int(update[i]):\n",
        "            flag2 = False\n",
        "            break;\n",
        "          control -= 1\n",
        "    #This is the counter on the updates that follow the rules\n",
        "    if flag2:\n",
        "        count +=  int(update[len(update)//2])\n",
        "\n",
        "  print(count)\n",
        "#Ugly manual testing to be removed at a later date.\n",
        "test = [[\"47|53\"],\n",
        "[\"97|13\"],\n",
        "[\"97|61\"],\n",
        "[\"97|47\"],\n",
        "[\"75|29\"],\n",
        "[\"61|13\"],\n",
        "[\"75|53\"],\n",
        "[\"29|13\"],\n",
        "[\"97|29\"],\n",
        "[\"53|29\"],\n",
        "[\"61|53\"],\n",
        "[\"97|53\"],\n",
        "[\"61|29\"],\n",
        "[\"47|13\"],\n",
        "[\"75|47\"],\n",
        "[\"97|75\"],\n",
        "[\"47|61\"],\n",
        "[\"75|61\"],\n",
        "[\"47|29\"],\n",
        "[\"75|13\"],\n",
        "[\"53|13\"],\n",
        "[],\n",
        "[\"75,47,61,53,29\"],\n",
        "[\"97,61,53,29,13\"],\n",
        "[\"75,29,13\"],\n",
        "[\"75,97,47,61,53\"],\n",
        "[\"61,13,29\"],\n",
        "[\" 97,13,75 ,29,47\" ]]\n",
        "#DaRules(test)\n",
        "DaRules(input)"
      ],
      "metadata": {
        "id": "TWvPi_6LGtkt",
        "collapsed": true
      },
      "execution_count": null,
      "outputs": []
    }
  ]
}