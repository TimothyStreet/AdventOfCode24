{
  "nbformat": 4,
  "nbformat_minor": 0,
  "metadata": {
    "colab": {
      "provenance": [],
      "authorship_tag": "ABX9TyMbQtGjUBnkQWDcehvoTq01"
    },
    "kernelspec": {
      "name": "python3",
      "display_name": "Python 3"
    },
    "language_info": {
      "name": "python"
    }
  },
  "cells": [
    {
      "cell_type": "markdown",
      "source": [
        "**Advent of Code Day 4 Problem 2**"
      ],
      "metadata": {
        "id": "NDqbzgngGZjg"
      }
    },
    {
      "cell_type": "markdown",
      "source": [
        "Reading Input file"
      ],
      "metadata": {
        "id": "asyETaIaGnrx"
      }
    },
    {
      "cell_type": "code",
      "execution_count": null,
      "metadata": {
        "id": "ZWdCqmNgCtU_",
        "collapsed": true
      },
      "outputs": [],
      "source": [
        "#The drive mount stuff is to grab the input file from a google drive\n",
        "#It can be omitted if the file is stored locally\n",
        "from google.colab import drive\n",
        "drive.mount('/content/drive')\n",
        "\n",
        "\n",
        "input = []\n",
        "#opening file\n",
        "with open(\"/content/drive/MyDrive/Day4Input.txt\") as f:\n",
        "          for line in f:\n",
        "            #Reading in the input one line at a time\n",
        "            input.append(line.split()[0])\n",
        "\n",
        "print(input)\n",
        "\n"
      ]
    },
    {
      "cell_type": "markdown",
      "source": [
        "Function for finding the distance between two lists."
      ],
      "metadata": {
        "id": "mArzmGBOGuN2"
      }
    },
    {
      "cell_type": "code",
      "source": [
        "#This is the main driver function that takes in an array for input\n",
        "def XmasFound(input):\n",
        "  #initializing values, may have a little excess but this is the ugly first version.\n",
        "  count = 0\n",
        "  #Using this loop to check one character at a time\n",
        "  for i in range(len(input)):\n",
        "    for j in range(len(input[i])):\n",
        "    #If the character is an A then we need to check all the possible diagonals\n",
        "      if input[i][j] == 'A':\n",
        "        #Upper diagonals both M\n",
        "        if i + 1 <= len(input[i]) -1 and j + 1 <= len(input[i]) -1 and j >=0  and input[i+1][j+1] == 'M' and input[i+1][j-1] == 'M':\n",
        "              if i-1 >= 0 and j-1 >= 0 and j + 1 <= len(input[i]) -1 and input[i-1][j+1] == 'S' and input[i-1][j-1] == 'S':\n",
        "                count += 1\n",
        "        #Upper diagonals both S\n",
        "        if i + 1 <= len(input[i]) -1 and j + 1 <= len(input[i]) -1 and j >=0  and input[i+1][j+1] == 'S' and input[i+1][j-1] == 'S':\n",
        "              if i-1 >= 0 and j-1 >= 0 and j + 1 <= len(input[i]) -1 and input[i-1][j+1] == 'M' and input[i-1][j-1] == 'M':\n",
        "                count += 1\n",
        "        #Upper diagonals M S\n",
        "        if i + 1 <= len(input[i]) -1 and j + 1 <= len(input[i]) -1 and j >=0  and input[i+1][j+1] == 'M' and input[i+1][j-1] == 'S':\n",
        "              if i-1 >= 0 and j-1 >= 0 and j + 1 <= len(input[i]) -1 and input[i-1][j+1] == 'M' and input[i-1][j-1] == 'S':\n",
        "                count += 1\n",
        "        #Upper diagonals S M\n",
        "        if i + 1 <= len(input[i]) -1 and j + 1 <= len(input[i]) -1 and j >=0  and input[i+1][j+1] == 'S' and input[i+1][j-1] == 'M':\n",
        "              if i-1 >= 0 and j-1 >= 0 and j + 1 <= len(input[i]) -1 and input[i-1][j+1] == 'S' and input[i-1][j-1] == 'M':\n",
        "                count += 1\n",
        "\n",
        "  print(count)\n",
        "\n",
        "#Ugly manual testing to be removed at a later date.\n",
        "test = [\"MMMSXXMASM\",\n",
        "\"MSAMXMSMSA\",\n",
        "\"AMXSXMAAMM\",\n",
        "\"MSAMASMSMX\",\n",
        "\"XMASAMXAMM\",\n",
        "\"XXAMMXXAMA\",\n",
        "\"SMSMSASXSS\",\n",
        "\"SAXAMASAAA\",\n",
        "\"MAMMMXMMMM\",\n",
        "\"MXMXAXMASX\"]\n",
        "#XmasFound(test)\n",
        "XmasFound(input)"
      ],
      "metadata": {
        "id": "TWvPi_6LGtkt",
        "collapsed": true
      },
      "execution_count": null,
      "outputs": []
    }
  ]
}