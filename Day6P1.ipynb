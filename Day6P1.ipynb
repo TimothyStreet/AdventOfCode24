{
  "nbformat": 4,
  "nbformat_minor": 0,
  "metadata": {
    "colab": {
      "provenance": [],
      "authorship_tag": "ABX9TyNtACJHhXP1aGQU9DvhX0O1"
    },
    "kernelspec": {
      "name": "python3",
      "display_name": "Python 3"
    },
    "language_info": {
      "name": "python"
    }
  },
  "cells": [
    {
      "cell_type": "markdown",
      "source": [
        "**Advent of Code Day 6 Problem 1**"
      ],
      "metadata": {
        "id": "NDqbzgngGZjg"
      }
    },
    {
      "cell_type": "markdown",
      "source": [
        "Reading Input file"
      ],
      "metadata": {
        "id": "asyETaIaGnrx"
      }
    },
    {
      "cell_type": "code",
      "execution_count": null,
      "metadata": {
        "id": "ZWdCqmNgCtU_",
        "collapsed": true
      },
      "outputs": [],
      "source": [
        "#The drive mount stuff is to grab the input file from a google drive\n",
        "#It can be omitted if the file is stored locally\n",
        "from google.colab import drive\n",
        "drive.mount('/content/drive')\n",
        "\n",
        "\n",
        "input = []\n",
        "#opening file\n",
        "with open(\"/content/drive/MyDrive/Day6Input.txt\") as f:\n",
        "          for line in f:\n",
        "            #Reading in the input one line at a time\n",
        "            input.append(list(line.split()[0]))\n",
        "\n",
        "print(input)\n",
        "\n"
      ]
    },
    {
      "cell_type": "markdown",
      "source": [
        "Function for finding the distance between two lists."
      ],
      "metadata": {
        "id": "mArzmGBOGuN2"
      }
    },
    {
      "cell_type": "code",
      "source": [
        "#This is the main driver function that takes in an array for input\n",
        "def patrol(input):\n",
        "  #initializing values, may have a little excess but this is the ugly first version.\n",
        "  count = 0\n",
        "  direction = 0\n",
        "  #input = []\n",
        "  #for item in arr:\n",
        "    #input.append(list(item))\n",
        "\n",
        "  for i in range(len(input)):\n",
        "    for j in range(len(input)):\n",
        "      if(input[i][j] == '^'):\n",
        "        input[i][j] = \"X\"\n",
        "        while True:\n",
        "          #Moving Up\n",
        "          #print(\"bob\")\n",
        "          if(direction % 4 == 0):\n",
        "            #print(\"fred\")\n",
        "            if i-1 >= 0:\n",
        "              #print(\"barney\")\n",
        "              if input[i-1][j] != '#':\n",
        "                input[i-1][j] = \"X\"\n",
        "                i -= 1;\n",
        "              else:\n",
        "                direction += 1\n",
        "            else:\n",
        "              print(\"bob\")\n",
        "              print(input[i][j])\n",
        "              break\n",
        "          #if(direction == 1):\n",
        "        #Moving Right\n",
        "          if(direction % 4 == 1):\n",
        "            if j + 1 <= len(input[i]) -1:\n",
        "              if input[i][j+1] != '#':\n",
        "                  input[i][j+1] = \"X\"\n",
        "                  j += 1;\n",
        "              else:\n",
        "                direction += 1\n",
        "            else:\n",
        "              break\n",
        "        #Moving Down\n",
        "          if(direction % 4 == 2):\n",
        "            if  i + 1 <= len(input[i]) -1:\n",
        "               if input[i+1][j] != '#':\n",
        "                  input[i+1][j] = \"X\"\n",
        "                  i += 1;\n",
        "               else:\n",
        "                  direction +=1\n",
        "            else:\n",
        "              break\n",
        "        #Moving Left\n",
        "          if(direction % 4 == 3):\n",
        "            if j-1 >= 0:\n",
        "               if input[i][j-1] != '#':\n",
        "                  input[i][j-1] = \"X\"\n",
        "                  j -= 1;\n",
        "               else:\n",
        "                  direction +=1\n",
        "            else:\n",
        "              break\n",
        "\n",
        "\n",
        "  for i in range(len(input)):\n",
        "    for j in range(len(input)):\n",
        "      if input[i][j] == 'X':\n",
        "        count += 1\n",
        "  print(count)\n",
        "\n",
        "#Ugly manual testing to be removed at a later date.\n",
        "test = [\"....#.....\",\n",
        "\".........#\",\n",
        "\"..........\",\n",
        "\"..#.......\",\n",
        "\".......#..\",\n",
        "\"..........\",\n",
        "\".#..^.....\",\n",
        "\"........#.\",\n",
        "\"#.........\",\n",
        "\"......#...\"]\n",
        "#patrol(test)\n",
        "patrol(input)"
      ],
      "metadata": {
        "id": "TWvPi_6LGtkt",
        "collapsed": true
      },
      "execution_count": null,
      "outputs": []
    }
  ]
}