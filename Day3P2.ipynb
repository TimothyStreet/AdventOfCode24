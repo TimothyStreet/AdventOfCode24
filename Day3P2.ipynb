{
  "nbformat": 4,
  "nbformat_minor": 0,
  "metadata": {
    "colab": {
      "provenance": [],
      "authorship_tag": "ABX9TyOg01VZt0JJrPzukSCiL3b0"
    },
    "kernelspec": {
      "name": "python3",
      "display_name": "Python 3"
    },
    "language_info": {
      "name": "python"
    }
  },
  "cells": [
    {
      "cell_type": "markdown",
      "source": [
        "**Advent of Code Day 3 Problem 2**"
      ],
      "metadata": {
        "id": "NDqbzgngGZjg"
      }
    },
    {
      "cell_type": "markdown",
      "source": [
        "Reading Input file"
      ],
      "metadata": {
        "id": "asyETaIaGnrx"
      }
    },
    {
      "cell_type": "code",
      "execution_count": null,
      "metadata": {
        "id": "ZWdCqmNgCtU_",
        "collapsed": true
      },
      "outputs": [],
      "source": [
        "#The drive mount stuff is to grab the input file from a google drive\n",
        "#It can be omitted if the file is stored locally\n",
        "from google.colab import drive\n",
        "drive.mount('/content/drive')\n",
        "\n",
        "\n",
        "input = []\n",
        "#opening file\n",
        "with open(\"/content/drive/MyDrive/Day3Input.txt\") as f:\n",
        "        #Read the input file into oen string\n",
        "        #The input for this needs to be one uniteruppted string\n",
        "        input = f.read()\n",
        "\n",
        "#Make sure that the input is correct\n",
        "print(input)\n",
        "\n"
      ]
    },
    {
      "cell_type": "markdown",
      "source": [
        "Function for finding the distance between two lists."
      ],
      "metadata": {
        "id": "mArzmGBOGuN2"
      }
    },
    {
      "cell_type": "code",
      "source": [
        "import re\n",
        "#This function is doing pattern recognition in strings.\n",
        "#At first I was going to parse it manually then decided it would be much easier to use Regex\n",
        "def Parse(input):\n",
        "      #Adding on a do() to the end to ensure that there isn't a mismatched don't() at the end\n",
        "      input = input + \"do()\"\n",
        "      #This finds all of the don't() to know how many slices need to be done\n",
        "      control = re.findall(\"don't()\", input)\n",
        "      #This loop is where we take out the chunks of string that need to be ignored\n",
        "      for i in range(len(control)):\n",
        "        #Finding the index for the don't()\n",
        "        x = input.find(\"don't()\")\n",
        "        #Finding the index of the nearest do() after the previous don't\n",
        "        y = input.find(\"do()\", x)\n",
        "        #Using the indexes to replace the useless chunk with nothing\n",
        "        input = input.replace(input[x:y], \"\")\n",
        "\n",
        "      calcs = 0\n",
        "      #Finding the instructions in the now cleaned input\n",
        "      x = re.findall(\"mul\\(\\d+,\\d+\\)\", input)\n",
        "\n",
        "      for j in x:\n",
        "        #Regex to grab the numbers and perform the calculations\n",
        "          nums = re.findall(\"\\d+\", j)\n",
        "          calcs += int(nums[0]) * int(nums[1])\n",
        "      print(calcs)\n",
        "\n",
        "\n",
        "test = \"xmul(2,4)&mul[3,7]!^don't()_mul(5,5)+mul(32,64](mul(11,8)undo()?mul(8,5))xmul(2,4)&mul[3,7]!^don't()_mul(5,5)+mul(32,64](mul(11,8)undo()?mul(8,5))\"\n",
        "#Parse(test)\n",
        "\n",
        "Parse(input)"
      ],
      "metadata": {
        "id": "TWvPi_6LGtkt",
        "collapsed": true
      },
      "execution_count": null,
      "outputs": []
    }
  ]
}