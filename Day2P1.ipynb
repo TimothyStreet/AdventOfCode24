{
  "nbformat": 4,
  "nbformat_minor": 0,
  "metadata": {
    "colab": {
      "provenance": [],
      "authorship_tag": "ABX9TyOrJmLhfPbC8lfM52L/xEnk"
    },
    "kernelspec": {
      "name": "python3",
      "display_name": "Python 3"
    },
    "language_info": {
      "name": "python"
    }
  },
  "cells": [
    {
      "cell_type": "markdown",
      "source": [
        "**Advent of Code Day 2 Problem 1**"
      ],
      "metadata": {
        "id": "NDqbzgngGZjg"
      }
    },
    {
      "cell_type": "markdown",
      "source": [
        "Reading Input file"
      ],
      "metadata": {
        "id": "asyETaIaGnrx"
      }
    },
    {
      "cell_type": "code",
      "execution_count": null,
      "metadata": {
        "id": "ZWdCqmNgCtU_",
        "collapsed": true
      },
      "outputs": [],
      "source": [
        "#The drive mount stuff is to grab the input file from a google drive\n",
        "#It can be omitted if the file is stored locally\n",
        "from google.colab import drive\n",
        "drive.mount('/content/drive')\n",
        "\n",
        "\n",
        "input = []\n",
        "#opening file\n",
        "with open(\"/content/drive/MyDrive/Day2Input.txt\") as f:\n",
        "          for line in f:\n",
        "            #Reading in the input one line at a time\n",
        "            input.append(line.split())\n",
        "\n",
        "print(input)\n",
        "\n"
      ]
    },
    {
      "cell_type": "markdown",
      "source": [
        "Function for finding the distance between two lists."
      ],
      "metadata": {
        "id": "mArzmGBOGuN2"
      }
    },
    {
      "cell_type": "code",
      "source": [
        "def isIncreasing(line):\n",
        "  for i in range(len(line) - 1):\n",
        "    if int(line[i]) > int(line[i+1]):\n",
        "      return False\n",
        "    if int(line[i+1]) - int(line[i]) > 3 or int(line[i] == line[i+1]):\n",
        "\n",
        "      return False\n",
        "  return True\n",
        "\n",
        "\n",
        "def isDecreasing(line):\n",
        "  for i in range(len(line) - 1):\n",
        "    if int(line[i]) < int(line[i+1]):\n",
        "      return False\n",
        "    if int(line[i]) - int(line[i+1]) > 3 or int(line[i] == line[i+1]):\n",
        "      return False\n",
        "  return True\n",
        "\n",
        "\n",
        "def countPatterns(arr):\n",
        "  count = 0\n",
        "  for line in arr:\n",
        "    if isIncreasing(line) or isDecreasing(line):\n",
        "      count += 1\n",
        "  print(count)\n",
        "\n",
        "#calling the Function with the input\n",
        "test = [[7, 6, 4, 2, 1], [1, 2, 7, 8 ,9], [9, 7, 6, 2, 1], [1, 3, 2, 4, 5], [8, 6, 4, 4, 1], [1, 3, 6, 7, 9]]\n",
        "#countPatterns(test)\n",
        "countPatterns(input)"
      ],
      "metadata": {
        "id": "TWvPi_6LGtkt",
        "collapsed": true
      },
      "execution_count": null,
      "outputs": []
    }
  ]
}