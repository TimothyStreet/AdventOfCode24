{
  "nbformat": 4,
  "nbformat_minor": 0,
  "metadata": {
    "colab": {
      "provenance": [],
      "authorship_tag": "ABX9TyOftckp8WwElNp1Tx6aLZGw"
    },
    "kernelspec": {
      "name": "python3",
      "display_name": "Python 3"
    },
    "language_info": {
      "name": "python"
    }
  },
  "cells": [
    {
      "cell_type": "markdown",
      "source": [
        "**Advent of Code Day 2 Problem 2**"
      ],
      "metadata": {
        "id": "NDqbzgngGZjg"
      }
    },
    {
      "cell_type": "markdown",
      "source": [
        "Reading Input file"
      ],
      "metadata": {
        "id": "asyETaIaGnrx"
      }
    },
    {
      "cell_type": "code",
      "execution_count": null,
      "metadata": {
        "id": "ZWdCqmNgCtU_",
        "collapsed": true
      },
      "outputs": [],
      "source": [
        "#The drive mount stuff is to grab the input file from a google drive\n",
        "#It can be omitted if the file is stored locally\n",
        "from google.colab import drive\n",
        "drive.mount('/content/drive')\n",
        "\n",
        "\n",
        "input = []\n",
        "#opening file\n",
        "with open(\"/content/drive/MyDrive/Day2InputP2.txt\") as f:\n",
        "          for line in f:\n",
        "            #Reading in the input one line at a time\n",
        "            input.append(line.split())\n",
        "\n",
        "print(input)\n",
        "\n"
      ]
    },
    {
      "cell_type": "markdown",
      "source": [
        "Function for finding the distance between two lists."
      ],
      "metadata": {
        "id": "mArzmGBOGuN2"
      }
    },
    {
      "cell_type": "code",
      "source": [
        "#Input: This function takes in a list of numbers for comparison\n",
        "#Output: This function returns a bool that used for determining if the list is appropriate by the guidlines, the function also returns an index value for checking alternate lists.\n",
        "def isIncreasing(line):\n",
        "  #Checks if the list of numbers is increasing.\n",
        "  for i in range(len(line) - 1):\n",
        "    #This will quit out if the next number in the list is smaller.\n",
        "    if int(line[i]) > int(line[i+1]):\n",
        "        return False, i\n",
        "    #This will quit if the distance between the two numbers is bigger than three or if the two numbers are the same.\n",
        "    if int(line[i+1]) - int(line[i]) > 3 or int(line[i] == line[i+1]):\n",
        "        return False, i\n",
        "\n",
        "  return True, 0\n",
        "\n",
        "#Input: This function takes in a list of numbers for comparison\n",
        "#Output: This function returns a bool that used for determining if the list is appropriate by the guidlines, the function also returns an index value for checking alternate lists.\n",
        "def isDecreasing(line):\n",
        "  #Checks if the list of numbers is decreasing.\n",
        "  for i in range(len(line) - 1):\n",
        "    #This will quit out if the next number in the list is bigger.\n",
        "    if int(line[i]) < int(line[i+1]):\n",
        "        return False, i\n",
        "    #This will quit if the distance between the two numbers is bigger than three or if the two numbers are the same.\n",
        "    if int(line[i]) - int(line[i+1]) > 3 or int(line[i] == line[i+1]):\n",
        "        return False, i\n",
        "\n",
        "  return True, 0\n",
        "\n",
        "#This is the main driver function that takes in an array for input\n",
        "def countPatterns(arr):\n",
        "  #initializing values, may have a little excess but this is the ugly first version.\n",
        "  count = 0\n",
        "  flag1 = True\n",
        "  flag2 = True\n",
        "  extra1 = True\n",
        "  extra2 = True\n",
        "  index1 = 0\n",
        "  index2 = 0\n",
        "  temp = []\n",
        "  temp2 = []\n",
        "  temp3 = []\n",
        "  temp4 = []\n",
        "  for line in arr:\n",
        "    #This flag is for having the possiblities split into two groups without counting anything twice.\n",
        "    flag3 = True\n",
        "    flag1, index1 = isIncreasing(line)\n",
        "    flag2, index2 = isDecreasing(line)\n",
        "    #This is for counting the levels that are fine without needing to remove any numbers.\n",
        "    if flag1 or flag2:\n",
        "      count += 1\n",
        "    else:\n",
        "      #All of these are to check the possible alternate paths when removing a particular number.\n",
        "      temp = line.copy()\n",
        "      temp2 = line.copy()\n",
        "      temp3 = line.copy()\n",
        "      temp4 = line.copy()\n",
        "      temp.pop(index1)\n",
        "      temp2.pop(index2)\n",
        "      temp3.pop(index1 + 1)\n",
        "      temp4.pop(index2 + 1)\n",
        "      flag1, index1 = isIncreasing(temp)\n",
        "      flag2, index2 = isDecreasing(temp)\n",
        "      extra1, index1 = isIncreasing(temp3)\n",
        "      extra2, index1 = isDecreasing(temp3)\n",
        "      #This is the first check after doing half of the possible paths. Splitting them into two might be unnecessary. Up for investigation later.\n",
        "      if flag1 or flag2 or extra1 or extra2:\n",
        "        count += 1\n",
        "        flag3 = False\n",
        "      flag1, index1 = isIncreasing(temp2)\n",
        "      flag2, index2 = isDecreasing(temp2)\n",
        "      extra1, index1 = isIncreasing(temp4)\n",
        "      extra2, index1 = isDecreasing(temp4)\n",
        "      #This if is to make sure that things don't get counted twice while catching the last couple possibilites.\n",
        "      if flag3:\n",
        "        if flag1 or flag2 or extra1 or extra2:\n",
        "          count += 1\n",
        "\n",
        "  print(count)\n",
        "\n",
        "#Ugly manual testing to be removed at a later date.\n",
        "test = [[7, 6, 4, 2, 1], [1, 2, 7, 8 ,9], [9, 7, 6, 2, 1], [1, 3, 2, 4, 5], [8, 6, 4, 4, 1], [1, 3, 6, 7, 9], [1,2,2,3,4], [1,2,1,3,4], [5,4,5,3,2],[5,4,4,2,1]]\n",
        "test2 = [[7, 10, 8, 10, 11],\n",
        "[29, 28, 27, 25, 26, 25, 22, 20], [1, 1, 1, 1], [9, 8, 7, 7, 7]]\n",
        "test3 = [[48, 46, 47, 49, 51, 54, 56],\n",
        "[1, 1, 2, 3, 4, 5],\n",
        "[1, 2, 3, 4, 5, 5],\n",
        "[5, 1, 2, 3, 4, 5],\n",
        "[1, 4, 3, 2, 1],\n",
        "[1, 6, 7, 8, 9],\n",
        "[1, 2, 3, 4, 3],\n",
        "[9, 8, 7, 6, 7],\n",
        "[7, 10, 8, 10, 11],\n",
        "[29, 28, 27, 25, 26, 25, 22, 20],\n",
        "         [52, 51, 52, 49, 47, 45],[1, 2, 3, 4, 5, 5]]\n",
        "test4 = [[52, 51, 52, 49, 47, 45],[1, 2, 3, 4, 3]]\n",
        "#countPatterns(test3)\n",
        "countPatterns(input)"
      ],
      "metadata": {
        "id": "TWvPi_6LGtkt",
        "collapsed": true
      },
      "execution_count": null,
      "outputs": []
    }
  ]
}