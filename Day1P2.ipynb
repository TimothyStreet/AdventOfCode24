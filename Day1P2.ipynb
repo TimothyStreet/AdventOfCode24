{
  "nbformat": 4,
  "nbformat_minor": 0,
  "metadata": {
    "colab": {
      "provenance": [],
      "authorship_tag": "ABX9TyNnaPbVdfRj+/bCpy8/GlmG"
    },
    "kernelspec": {
      "name": "python3",
      "display_name": "Python 3"
    },
    "language_info": {
      "name": "python"
    }
  },
  "cells": [
    {
      "cell_type": "markdown",
      "source": [
        "**Advent of Code Day 1 Problem 2**"
      ],
      "metadata": {
        "id": "NDqbzgngGZjg"
      }
    },
    {
      "cell_type": "markdown",
      "source": [
        "Reading Input file"
      ],
      "metadata": {
        "id": "asyETaIaGnrx"
      }
    },
    {
      "cell_type": "code",
      "execution_count": null,
      "metadata": {
        "id": "ZWdCqmNgCtU_"
      },
      "outputs": [],
      "source": [
        "from google.colab import drive\n",
        "drive.mount('/content/drive')\n",
        "#\"/content/drive/MyDrive/Day1Input.txt\"\n",
        "list1 = []\n",
        "list2 = []\n",
        "with open(\"/content/drive/MyDrive/Day1Input.txt\") as f:\n",
        "        for line in f:\n",
        "          SplitLine = line.split()\n",
        "          list1.append(int(SplitLine[0]))\n",
        "          list2.append(int(SplitLine[1]))\n",
        "\n",
        "print(list1)\n",
        "print(list2)\n",
        "\n"
      ]
    },
    {
      "cell_type": "markdown",
      "source": [
        "Function for finding the distance between two lists."
      ],
      "metadata": {
        "id": "mArzmGBOGuN2"
      }
    },
    {
      "cell_type": "code",
      "source": [
        "def findSimilarity(l1, l2):\n",
        "  similarity = 0\n",
        "  for num in l1:\n",
        "    #run the calcution give in the problem by mutiplying each number by how many times its in the other list and adding to the total\n",
        "    similarity += num * l2.count(num)\n",
        "#print out the value that similairty that we are looking for\n",
        "  print(similarity)\n",
        "#call the function with the lists from the input\n",
        "findSimilarity(list1, list2)"
      ],
      "metadata": {
        "id": "TWvPi_6LGtkt"
      },
      "execution_count": null,
      "outputs": []
    }
  ]
}