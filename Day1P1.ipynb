{
  "nbformat": 4,
  "nbformat_minor": 0,
  "metadata": {
    "colab": {
      "provenance": [],
      "authorship_tag": "ABX9TyNzAP9Asqw1U6Lt4zMMEnED"
    },
    "kernelspec": {
      "name": "python3",
      "display_name": "Python 3"
    },
    "language_info": {
      "name": "python"
    }
  },
  "cells": [
    {
      "cell_type": "markdown",
      "source": [
        "**Advent of Code Day 1 Problem 1**"
      ],
      "metadata": {
        "id": "NDqbzgngGZjg"
      }
    },
    {
      "cell_type": "markdown",
      "source": [
        "Reading Input file"
      ],
      "metadata": {
        "id": "asyETaIaGnrx"
      }
    },
    {
      "cell_type": "code",
      "execution_count": null,
      "metadata": {
        "id": "ZWdCqmNgCtU_",
        "collapsed": true
      },
      "outputs": [],
      "source": [
        "#The drive mount stuff is to grab the input file from a google drive\n",
        "#It can be omitted if the file is stored locally\n",
        "from google.colab import drive\n",
        "drive.mount('/content/drive')\n",
        "\n",
        "\n",
        "list1 = []\n",
        "list2 = []\n",
        "#opening file\n",
        "with open(\"/content/drive/MyDrive/Day1Input.txt\") as f:\n",
        "        for line in f:\n",
        "          #Reading in the input one line at a time\n",
        "          SplitLine = line.split()\n",
        "          #Splitting the two numbers on each line into different lists\n",
        "          list1.append(int(SplitLine[0]))\n",
        "          list2.append(int(SplitLine[1]))\n",
        "#tactical print to see if the input looks right\n",
        "print(list1)\n",
        "print(list2)\n",
        "\n"
      ]
    },
    {
      "cell_type": "markdown",
      "source": [
        "Function for finding the distance between two lists."
      ],
      "metadata": {
        "id": "mArzmGBOGuN2"
      }
    },
    {
      "cell_type": "code",
      "source": [
        "def findDistance(l1, l2):\n",
        "#Sorting the lists the easy way\n",
        "#This could be done more efficintly, but I chose to take the easy way out\n",
        "  l1.sort()\n",
        "  l2.sort()\n",
        "\n",
        "  distance = 0\n",
        "  for num, num2 in zip(l1,l2):\n",
        "#This if ensures that the bigger number between the two is one subtracted from, so that there are no negative numbers or miscalculations.\n",
        "    if num > num2:\n",
        "      distance += num - num2\n",
        "    else:\n",
        "      distance += num2 - num\n",
        "#Printing out the distance from the given formula, this could easily be returned instead\n",
        "  print(distance)\n",
        "\n",
        "#calling the Function with the two list from the input\n",
        "findDistance(list1, list2)"
      ],
      "metadata": {
        "id": "TWvPi_6LGtkt",
        "collapsed": true
      },
      "execution_count": null,
      "outputs": []
    }
  ]
}