{
  "nbformat": 4,
  "nbformat_minor": 0,
  "metadata": {
    "colab": {
      "provenance": [],
      "authorship_tag": "ABX9TyO2oJvBRzfHok5ajHGEryQq"
    },
    "kernelspec": {
      "name": "python3",
      "display_name": "Python 3"
    },
    "language_info": {
      "name": "python"
    }
  },
  "cells": [
    {
      "cell_type": "markdown",
      "source": [
        "**Advent of Code Day 3 Problem 1**"
      ],
      "metadata": {
        "id": "NDqbzgngGZjg"
      }
    },
    {
      "cell_type": "markdown",
      "source": [
        "Reading Input file"
      ],
      "metadata": {
        "id": "asyETaIaGnrx"
      }
    },
    {
      "cell_type": "code",
      "execution_count": null,
      "metadata": {
        "id": "ZWdCqmNgCtU_",
        "collapsed": true
      },
      "outputs": [],
      "source": [
        "#The drive mount stuff is to grab the input file from a google drive\n",
        "#It can be omitted if the file is stored locally\n",
        "from google.colab import drive\n",
        "drive.mount('/content/drive')\n",
        "\n",
        "\n",
        "input = []\n",
        "#opening file\n",
        "with open(\"/content/drive/MyDrive/Day3Input.txt\") as f:\n",
        "        #Read the input file into oen string\n",
        "        #The input for this needs to be one uniteruppted string\n",
        "        input = f.read()\n",
        "#Make sure that the input is correct\n",
        "print(input)\n",
        "\n"
      ]
    },
    {
      "cell_type": "markdown",
      "source": [
        "Function for finding the distance between two lists."
      ],
      "metadata": {
        "id": "mArzmGBOGuN2"
      }
    },
    {
      "cell_type": "code",
      "source": [
        "import re\n",
        "#This function is doing pattern recognition in strings.\n",
        "#At first I was going to parse it manually then decided it would be much easier to use Regex.\n",
        "def Parse(input):\n",
        "      #Initialize the counter.\n",
        "      calcs = 0\n",
        "      #This runs the regex and stores all the isntructions we need in an array .\n",
        "      x = re.findall(\"mul\\(\\d+,\\d+\\)\", input)\n",
        "      #This is going trough the array to perform the instructions.\n",
        "      for i in x:\n",
        "        #This uses regex to grab the numbers for the calculations.\n",
        "        nums = re.findall(\"\\d+\", i)\n",
        "        calcs += int(nums[0]) * int(nums[1])\n",
        "      print(calcs)\n",
        "\n",
        "\n",
        "test = \"xmul(2,4)%&mul[3,7]!@^do_not_mul(5,5)+mul(32,64]then(mul(11,8)mul(8,5))\"\n",
        "#Parse(test)\n",
        "#Calling the function with input.\n",
        "Parse(input)"
      ],
      "metadata": {
        "id": "TWvPi_6LGtkt",
        "collapsed": true
      },
      "execution_count": null,
      "outputs": []
    }
  ]
}